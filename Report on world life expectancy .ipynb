{
 "cells": [
  {
   "cell_type": "markdown",
   "id": "fce08487",
   "metadata": {},
   "source": [
    "# Import modules and data"
   ]
  },
  {
   "cell_type": "code",
   "execution_count": null,
   "id": "3ab6e386",
   "metadata": {},
   "outputs": [],
   "source": [
    "#standard imports\n",
    "import pandas as pd\n",
    "import numpy as np\n",
    "#data visualization imports \n",
    "import matplotlib.pyplot as plt\n",
    "import seaborn as sns\n",
    "#sklearn imports\n",
    "from sklearn.preprocessing import StandardScaler\n",
    "from sklearn.cluster import KMeans\n",
    "from sklearn.metrics import silhouette_score \n",
    "from sklearn.model_selection import train_test_split\n",
    "from sklearn.decomposition import PCA\n",
    "from sklearn.metrics import mean_squared_error, r2_score, mean_absolute_error\n",
    "#tensorflow imports\n",
    "from tensorflow.keras import Sequential\n",
    "from tensorflow.keras import metrics\n",
    "from tensorflow.keras.layers import Dense\n",
    "from tensorflow.keras.callbacks import EarlyStopping"
   ]
  },
  {
   "cell_type": "code",
   "execution_count": null,
   "id": "615004e2",
   "metadata": {
    "scrolled": true
   },
   "outputs": [],
   "source": [
    "#import data\n",
    "df = pd.read_csv('data/life_expectancy_data.csv')\n",
    "#inspect first few rows of dataframe\n",
    "df.head()"
   ]
  },
  {
   "cell_type": "markdown",
   "id": "53aa85ff",
   "metadata": {},
   "source": [
    "# Data cleaning"
   ]
  },
  {
   "cell_type": "code",
   "execution_count": null,
   "id": "388d769a",
   "metadata": {},
   "outputs": [],
   "source": [
    "#call .info\n",
    "df.info()\n",
    "#print statement calling missing values\n",
    "print(f'Dataset contains {df.isna().sum().sum()} missing data entries')\n",
    "#print statement calling duplicated values\n",
    "print(f'Dataset contains {df.duplicated().sum()} duplicated data entries')"
   ]
  },
  {
   "cell_type": "code",
   "execution_count": null,
   "id": "69b7259f",
   "metadata": {
    "scrolled": true
   },
   "outputs": [],
   "source": [
    "#calling lambda function to remove unneccesary spaces with rename\n",
    "df = df.rename(columns=lambda x: x.strip())\n",
    "#inspect info to ensure results\n",
    "df.info()"
   ]
  },
  {
   "cell_type": "code",
   "execution_count": null,
   "id": "46253ea7",
   "metadata": {
    "scrolled": true
   },
   "outputs": [],
   "source": [
    "#define dictionary of imputing methods for for loop\n",
    "impute_methods = {np.dtype('float64'): lambda col: col.fillna(col.mean()),\n",
    "                  np.dtype('int64'): lambda col: col.fillna(col.median()),\n",
    "                  np.dtype('O'): lambda col: col.fillna(col.mode().iloc[0])}\n",
    "#outer loop that loops through each column in dataframe\n",
    "for col in df.columns:\n",
    "    data_type = df[col].dtype  # getting data type for each column\n",
    "    #inner loop through impute methods to see if present\n",
    "    if data_type in impute_methods:\n",
    "        impute_func = impute_methods[data_type] #get corresponding data type\n",
    "        df[col] = impute_func(df[col]) #apply impute method\n",
    "\n",
    "#call missing values to ensure loop was successful\n",
    "print(f'Data contains {df.isna().sum().sum()} missing data points')"
   ]
  },
  {
   "cell_type": "code",
   "execution_count": null,
   "id": "5b807c27",
   "metadata": {},
   "outputs": [],
   "source": [
    "#defining fucntion to format column names\n",
    "def format_column_name(df):\n",
    "    \"\"\"Make all column names lower case with underscores\n",
    "       Args: Pandas DataFrame\n",
    "       Returns: new DataFrame with formated column names\"\"\"\n",
    "    df.columns = df.columns.str.lower().str.replace(' ', '_')\n",
    "    return df\n",
    "#calling function for our dataframe\n",
    "df = format_column_name(df)\n",
    "#calling info on new df\n",
    "df.info()"
   ]
  },
  {
   "cell_type": "markdown",
   "id": "bb5a3f4a",
   "metadata": {},
   "source": [
    "# Exploratory data analysis"
   ]
  },
  {
   "cell_type": "markdown",
   "id": "8b59ab96",
   "metadata": {},
   "source": [
    "How has the average life expectancy changed since the turn of the century? As you can see from the visual below it has rise consistently since the year 2000."
   ]
  },
  {
   "cell_type": "code",
   "execution_count": null,
   "id": "b191aaae",
   "metadata": {},
   "outputs": [],
   "source": [
    "#grouping year by average life expectancy\n",
    "avg_life_ex = df.groupby('year')['life_expectancy'].mean()\n",
    "#choosing plot style\n",
    "plt.style.use('fivethirtyeight')\n",
    "#call line plot of average life expectancy by year \n",
    "plt.plot(avg_life_ex.index, avg_life_ex.values)\n",
    "#call plot title\n",
    "plt.title('Avergae life expectancy by year')\n",
    "#call axis title\n",
    "plt.xlabel('Year')\n",
    "plt.ylabel('Life expectancy')\n",
    "#rotate x labels \n",
    "plt.xticks(rotation=70)\n",
    "#show plot\n",
    "plt.show()"
   ]
  },
  {
   "cell_type": "markdown",
   "id": "d4946196",
   "metadata": {},
   "source": [
    "The same can be said for infant deaths and deaths under 5 years old. The two visuals below show a steady and consistent decline over the last decade"
   ]
  },
  {
   "cell_type": "code",
   "execution_count": null,
   "id": "5e8bb42c",
   "metadata": {
    "scrolled": true
   },
   "outputs": [],
   "source": [
    "#grouping average infant deaths by year\n",
    "avg_inf_ded = df.groupby('year')['infant_deaths'].mean()\n",
    "#calling line plot of average infant deaths by year\n",
    "plt.plot(avg_inf_ded.index, avg_inf_ded.values)\n",
    "#calling plot title\n",
    "plt.title('Average infant deaths per 1000')\n",
    "#calling axis title\n",
    "plt.xlabel('Year')\n",
    "plt.ylabel('Infant deaths')\n",
    "#rotate x labels\n",
    "plt.xticks(rotation=70)\n",
    "#show plot\n",
    "plt.show()"
   ]
  },
  {
   "cell_type": "code",
   "execution_count": null,
   "id": "fb819024",
   "metadata": {
    "scrolled": true
   },
   "outputs": [],
   "source": [
    "#grouping average deaths under five by year\n",
    "under5_ded = df.groupby('year')['under-five_deaths'].mean()\n",
    "#calling line plot with average under five deaths by year\n",
    "plt.plot(under5_ded.index, under5_ded.values)\n",
    "#calling plot title\n",
    "plt.title('Average deaths under 5 y/o per 1000')\n",
    "#calling axis titles\n",
    "plt.xlabel('Year')\n",
    "plt.ylabel('Amount of deaths')\n",
    "#rotate x labels\n",
    "plt.xticks(rotation=70)\n",
    "#show plot\n",
    "plt.show()"
   ]
  },
  {
   "cell_type": "markdown",
   "id": "2d7a6779",
   "metadata": {},
   "source": [
    "<b>What about young adults?\n",
    " \n",
    "While the deaths of those between 16 and 30 years old has gone down, 2004 and 2008 did have some big spikes and it starts to spike again showing an increase in 2014."
   ]
  },
  {
   "cell_type": "code",
   "execution_count": null,
   "id": "23b4bf88",
   "metadata": {},
   "outputs": [],
   "source": [
    "#grouping average adult mortailty by year\n",
    "adultmor = df.groupby('year')['adult_mortality'].mean()\n",
    "#calling line plot with average adult mortality by year\n",
    "plt.plot(adultmor.index, adultmor.values)\n",
    "#calling plot title\n",
    "plt.title('Average young adult deaths by year')\n",
    "#calling axis titles\n",
    "plt.xlabel('Year')\n",
    "plt.ylabel('Deaths age 16-30')\n",
    "#rotate x labels\n",
    "plt.xticks(rotation=70)\n",
    "#show plot\n",
    "plt.show()"
   ]
  },
  {
   "cell_type": "markdown",
   "id": "e6a6654a",
   "metadata": {},
   "source": [
    "Does alcohol consumption play a role at all? Well despite the overall decrease in death and increase in life expectancy, alcohol consumption has remained steady for the majority of the decade. Around 2011 there was a pretty significant dip followed by a huge increase in 2014."
   ]
  },
  {
   "cell_type": "code",
   "execution_count": null,
   "id": "5096bbde",
   "metadata": {},
   "outputs": [],
   "source": [
    "#groupby alcohol average by year \n",
    "alc_year=df.groupby('year')['alcohol'].mean()\n",
    "#calling line plot for average alcohol by year\n",
    "plt.plot(alc_year.index, alc_year.values)\n",
    "#calling plot title \n",
    "plt.title('Avergage alcohol consumption in liters')\n",
    "#calling axis title\n",
    "plt.xlabel('Year')\n",
    "plt.ylabel('Consumption')\n",
    "#rotate x labels\n",
    "plt.xticks(rotation=70)\n",
    "#show plot\n",
    "plt.show()"
   ]
  },
  {
   "cell_type": "markdown",
   "id": "00c3c41d",
   "metadata": {},
   "source": [
    "How does the average BMI over the decade look in all of this? Despite the overall positives listed above, the average BMI has increased consistently since 2005."
   ]
  },
  {
   "cell_type": "code",
   "execution_count": null,
   "id": "d4d1bd57",
   "metadata": {},
   "outputs": [],
   "source": [
    "#grouping average bmi by year\n",
    "bmi_avg=df.groupby('year')['bmi'].mean()\n",
    "#call line plot with average bmi by year\n",
    "plt.plot(bmi_avg.index, bmi_avg.values)\n",
    "#call title\n",
    "plt.title('Average BMI')\n",
    "#call axis titles\n",
    "plt.xlabel('Year')\n",
    "plt.ylabel('BMI')\n",
    "#rotate x labels\n",
    "plt.xticks(rotation=70)\n",
    "#show plot\n",
    "plt.show()"
   ]
  },
  {
   "cell_type": "markdown",
   "id": "6f0184b7",
   "metadata": {},
   "source": [
    "Below we used a scatter plot with a regression to see if there was a correlation between life expectancy and GDP. There appears to be a weak relationship between life expectancy and GDP."
   ]
  },
  {
   "cell_type": "code",
   "execution_count": null,
   "id": "1edc8e30",
   "metadata": {},
   "outputs": [],
   "source": [
    "#call scatter plot with regression line for life expectancy and gdp\n",
    "sns.scatterplot(x='life_expectancy', y='gdp', data=df)\n",
    "sns.regplot(x='life_expectancy', y='gdp', data=df, scatter=False, ci=None, line_kws={'color': 'red', 'label': 'Correlation Line'}, order=1, truncate=True)\n",
    "#set y label limit\n",
    "plt.ylim(0, max(df['gdp']))\n",
    "#call titles\n",
    "plt.title('Life expectancy over GDP')\n",
    "#call axis titles\n",
    "plt.xlabel('Life expectancy')\n",
    "plt.ylabel('GDP')\n",
    "#show plot\n",
    "plt.show()"
   ]
  },
  {
   "cell_type": "markdown",
   "id": "9d2e2bab",
   "metadata": {},
   "source": [
    "Does schooling effect life expectancy? The regression line on the scatter plot shows a very strong relationship with all the data points being around the regression line (red) with the exception of probable outliers. Will explore this further in statistical analysis."
   ]
  },
  {
   "cell_type": "code",
   "execution_count": null,
   "id": "fcd6ab19",
   "metadata": {},
   "outputs": [],
   "source": [
    "#call scattertplot with regression line for schooling and life expectancy \n",
    "sns.scatterplot(x='life_expectancy', y='schooling', data=df)\n",
    "sns.regplot(x='life_expectancy', y='schooling', data=df, scatter=False, ci=None, line_kws={'color': 'red', 'label': 'Correlation Line'}, order=1, truncate=True)\n",
    "#call title\n",
    "plt.title('Life expectancy over years in school')\n",
    "#call axis labels\n",
    "plt.xlabel('Life expectancy')\n",
    "plt.ylabel('Years in school')\n",
    "#show plot\n",
    "plt.show()"
   ]
  },
  {
   "cell_type": "markdown",
   "id": "c65e13bb",
   "metadata": {},
   "source": [
    "Does alcohol consumption impact life expectancy? The regression line on the scatter plot shows a possible relationship, however since most of the data points aren't around line itself, more investigation is required to draw a possible conclusion."
   ]
  },
  {
   "cell_type": "code",
   "execution_count": null,
   "id": "7b8dff6c",
   "metadata": {},
   "outputs": [],
   "source": [
    "#call scatter plot with life expectancy over alcohol consumption\n",
    "sns.scatterplot(x='life_expectancy', y='alcohol', data=df)\n",
    "sns.regplot(x='life_expectancy', y='alcohol', data=df, scatter=False, ci=None, line_kws={'color': 'red', 'label': 'Correlation Line'}, order=1, truncate=True)\n",
    "#call title\n",
    "plt.title('Life expectancy over alcohol consumption (in liters)')\n",
    "#call axis labels\n",
    "plt.xlabel('Life expectancy')\n",
    "plt.ylabel('Consumption in liters')\n",
    "#show plot\n",
    "plt.show()"
   ]
  },
  {
   "cell_type": "markdown",
   "id": "efcb986c",
   "metadata": {},
   "source": [
    "The data points in the scatter plot below are distributed similar to before, the polio vaccine might have a positive relationship, but it likely did not have a negative one"
   ]
  },
  {
   "cell_type": "code",
   "execution_count": null,
   "id": "fbcc2dd2",
   "metadata": {
    "scrolled": true
   },
   "outputs": [],
   "source": [
    "#calling scatter plot with regression line for polio vaccine and life expectancy\n",
    "sns.scatterplot(x='life_expectancy', y='polio', data=df)\n",
    "sns.regplot(x='life_expectancy', y='polio', data=df, scatter=False, ci=None, line_kws={'color': 'red', 'label': 'Correlation Line'}, order=1, truncate=True)\n",
    "#set y label limit\n",
    "plt.ylim(0, max(df['polio']))\n",
    "#call title\n",
    "plt.title('Life expectancy over Polio vaccine %')\n",
    "#call axis label\n",
    "plt.xlabel(\"Life expectancy\")\n",
    "plt.ylabel('% Vaccinated at 1')\n",
    "#show plot\n",
    "plt.show()"
   ]
  },
  {
   "cell_type": "markdown",
   "id": "c6a6581f",
   "metadata": {},
   "source": [
    "How about the Hepatitis B Vaccine? Well there seems to be a weak to no relationship between the Hepatitis B vaccine and life expectancy. While one side the regression line is populated (upper) the lower part is widely distributed."
   ]
  },
  {
   "cell_type": "code",
   "execution_count": null,
   "id": "dfc143b6",
   "metadata": {},
   "outputs": [],
   "source": [
    "#call scatter plot with life expectancy over hepatitis b vaccine\n",
    "sns.scatterplot(x='life_expectancy', y='hepatitis_b', data=df)\n",
    "sns.regplot(x='life_expectancy', y='hepatitis_b', data=df, scatter=False, color='red', ci=None, order=1, truncate=True)\n",
    "#call title\n",
    "plt.title('Life expectancy over Hepatitis B Vaccine %')\n",
    "#call axis label\n",
    "plt.xlabel('Life expectancy')\n",
    "plt.ylabel('% Vaccinated at 1')\n",
    "#show plot\n",
    "plt.show()\n"
   ]
  },
  {
   "cell_type": "markdown",
   "id": "14aa94f5",
   "metadata": {},
   "source": [
    "Do more densely populated areas have higher or lower life expectancies? The regression line on the scatter plot below is flat, so there appears to be no relationship between population and life expectancy."
   ]
  },
  {
   "cell_type": "code",
   "execution_count": null,
   "id": "7fd3e429",
   "metadata": {
    "scrolled": true
   },
   "outputs": [],
   "source": [
    "#call scatter plot with life expectancy and population with regression line\n",
    "sns.scatterplot(x='life_expectancy', y='population', data=df)\n",
    "sns.regplot(x='life_expectancy', y='population', data=df, scatter=False, color='red', ci=None, order=1, truncate=True)\n",
    "#call title\n",
    "plt.title('Life expectancy over population')\n",
    "#call axis labels\n",
    "plt.xlabel('Life expectancy')\n",
    "plt.ylabel('Population')\n",
    "#show plot\n",
    "plt.show()"
   ]
  },
  {
   "cell_type": "markdown",
   "id": "cb22b3d7",
   "metadata": {},
   "source": [
    "It appears infant deaths also have no relationship to life expectancy due to how flat the regression line in on the scatter plot below."
   ]
  },
  {
   "cell_type": "code",
   "execution_count": null,
   "id": "2817aea0",
   "metadata": {},
   "outputs": [],
   "source": [
    "#call scatter plot with life expectancy over infant deaths\n",
    "sns.scatterplot(x='life_expectancy', y='infant_deaths', data=df)\n",
    "sns.regplot(x='life_expectancy', y='infant_deaths', data=df, scatter=False, color='red', ci=None, order=1, truncate=True)\n",
    "#call title\n",
    "plt.title('Life expectancy over infant deaths')\n",
    "#call axis labels \n",
    "plt.xlabel('Life expectancy')\n",
    "plt.ylabel('Infant deaths')\n",
    "#show plot\n",
    "plt.show()"
   ]
  },
  {
   "cell_type": "markdown",
   "id": "5ab620f8",
   "metadata": {},
   "source": [
    "Does the rate of adult mortality (ages 16-30) have an impact on life expectancy? Assuming all the data points on the lower part of the scatter plot are outliers then yes, but we will inspect this during statistical analysis. "
   ]
  },
  {
   "cell_type": "code",
   "execution_count": null,
   "id": "f33ee813",
   "metadata": {},
   "outputs": [],
   "source": [
    "#call scatter plot with life expectancy over adult mortality\n",
    "sns.scatterplot(x='life_expectancy', y='adult_mortality', data=df)\n",
    "sns.regplot(x='life_expectancy', y='adult_mortality', data=df, scatter=False, color='red')\n",
    "#call title\n",
    "plt.title('Life expectancy over adult mortatilty')\n",
    "#call axis label\n",
    "plt.xlabel('Life expectancy')\n",
    "plt.ylabel('Deaths age 16-30')\n",
    "#show plot\n",
    "plt.show()"
   ]
  },
  {
   "cell_type": "markdown",
   "id": "959e7bbb",
   "metadata": {},
   "source": [
    "It also appears deaths under five has no relationship to life expectancy due to how flat the regression line is on the scatter plot below."
   ]
  },
  {
   "cell_type": "code",
   "execution_count": null,
   "id": "005d2981",
   "metadata": {
    "scrolled": true
   },
   "outputs": [],
   "source": [
    "#call scatter plot with life expectancy over under 5 deaths\n",
    "sns.scatterplot(x='life_expectancy', y='under-five_deaths', data=df)\n",
    "sns.regplot(x='life_expectancy', y='under-five_deaths', data=df, scatter=False, color='red')\n",
    "#call plot title\n",
    "plt.title('Life expectancy over deaths under age 5')\n",
    "#call axis label\n",
    "plt.xlabel('Life expectancy')\n",
    "plt.ylabel('Deaths under age 5')\n",
    "#show plot\n",
    "plt.show()"
   ]
  },
  {
   "cell_type": "markdown",
   "id": "454017ac",
   "metadata": {},
   "source": [
    "Should countries with a life expectancy lower than 65 spend more money on health care? There seems to be no relationship, but will revisit in statistical analysis to make sure."
   ]
  },
  {
   "cell_type": "code",
   "execution_count": null,
   "id": "d86e2ee5",
   "metadata": {},
   "outputs": [],
   "source": [
    "#query data with life expectancy less than 65\n",
    "dead65 = df[df['life_expectancy']<65]"
   ]
  },
  {
   "cell_type": "code",
   "execution_count": null,
   "id": "1ff87787",
   "metadata": {
    "scrolled": false
   },
   "outputs": [],
   "source": [
    "#call scatter plot with life expectancy over percentage expenditure\n",
    "sns.scatterplot(x='life_expectancy', y='percentage_expenditure', data=dead65)\n",
    "sns.regplot(x='life_expectancy', y='percentage_expenditure', data=dead65, scatter=False, color='red')\n",
    "#set y axis limit\n",
    "plt.ylim(0, max(df['percentage_expenditure']))\n",
    "#call plot title\n",
    "plt.title('Life expenditure over % spent on health')\n",
    "#call axis label\n",
    "plt.xlabel('Life expectancy')\n",
    "plt.ylabel('% Spent')\n",
    "#show plot\n",
    "plt.show()"
   ]
  },
  {
   "cell_type": "markdown",
   "id": "de131e3b",
   "metadata": {},
   "source": [
    "Does BMI play a factor in life expectancy? There appears to be a moderate relationship between life expectancy and BMI, will investigate further during statistical analysis. "
   ]
  },
  {
   "cell_type": "code",
   "execution_count": null,
   "id": "fd3ce49e",
   "metadata": {
    "scrolled": true
   },
   "outputs": [],
   "source": [
    "#call scatterplot with regression line with BMI over life expectancy\n",
    "sns.scatterplot(x='life_expectancy', y='bmi', data=df)\n",
    "sns.regplot(x='life_expectancy', y='bmi', data=df, scatter=False, color='red')\n",
    "#call title\n",
    "plt.title('Life expectancy over BMI')\n",
    "#call axis labels\n",
    "plt.xlabel('Life expectancy')\n",
    "plt.ylabel('BMI')\n",
    "#show plot\n",
    "plt.show()"
   ]
  },
  {
   "cell_type": "markdown",
   "id": "61712117",
   "metadata": {},
   "source": [
    "Below we called the describe function to call various metrics to be used to reference later."
   ]
  },
  {
   "cell_type": "code",
   "execution_count": null,
   "id": "d7e6c017",
   "metadata": {
    "scrolled": true
   },
   "outputs": [],
   "source": [
    "#call describe function\n",
    "df.describe()"
   ]
  },
  {
   "cell_type": "markdown",
   "id": "1e47a481",
   "metadata": {},
   "source": [
    "# Predictive models "
   ]
  },
  {
   "cell_type": "markdown",
   "id": "7e9f4b7b",
   "metadata": {},
   "source": [
    "## PCA"
   ]
  },
  {
   "cell_type": "markdown",
   "id": "26d563ac",
   "metadata": {},
   "source": [
    "We will be using a principal component analysis (PCA) to reduce our dimensions of features for our neural network to perform better."
   ]
  },
  {
   "cell_type": "code",
   "execution_count": null,
   "id": "fa1685a2",
   "metadata": {},
   "outputs": [],
   "source": [
    "#define x and y variable\n",
    "X = df.drop(columns=['life_expectancy', 'country', 'status']) #removing y variable and object columns\n",
    "y = df['life_expectancy']\n",
    "#instantiate train test split\n",
    "X_train, X_test, y_train, y_test = train_test_split(X, y, random_state=42)"
   ]
  },
  {
   "cell_type": "code",
   "execution_count": null,
   "id": "cc1fb0fc",
   "metadata": {},
   "outputs": [],
   "source": [
    "#calling standard scaler\n",
    "scaler = StandardScaler()\n",
    "#scale X data \n",
    "X_train_sca = scaler.fit_transform(X_train)\n",
    "X_test_sca = scaler.transform(X_test)\n",
    "#instantiate pca\n",
    "pca = PCA()\n",
    "#fit scaled training data \n",
    "pca.fit(X_train_sca)"
   ]
  },
  {
   "cell_type": "code",
   "execution_count": null,
   "id": "cf8ed1c9",
   "metadata": {},
   "outputs": [],
   "source": [
    "#reset style to default\n",
    "plt.style.use('default')\n",
    "#visual variance for each component \n",
    "plt.plot(range(1,20), pca.explained_variance_ratio_, marker='.' )\n",
    "#call xticks \n",
    "plt.xticks(ticks=range(1,20), fontsize=8)\n",
    "#call title\n",
    "plt.title('Variance of principal compononents')\n",
    "#call axis labels\n",
    "plt.xlabel('Principal component')\n",
    "plt.ylabel('Proportion of explained variance')\n",
    "#show plot\n",
    "plt.show()"
   ]
  },
  {
   "cell_type": "markdown",
   "id": "4dce7b42",
   "metadata": {},
   "source": [
    "It appears our ideal principal component parameter is 4 since thats where the slope ends for variance."
   ]
  },
  {
   "cell_type": "code",
   "execution_count": null,
   "id": "4d202279",
   "metadata": {
    "scrolled": true
   },
   "outputs": [],
   "source": [
    "#instante new pca with new parameter \n",
    "pca4 = PCA(n_components=4)\n",
    "#fit training data\n",
    "pca4.fit(X_train_sca)\n",
    "#transform X data\n",
    "X_train_pro = pca4.transform(X_train_sca)\n",
    "X_test_pro = pca4.transform(X_test_sca)\n",
    "#inspecting new shape of data w/ print statements\n",
    "print(f'X train processed shape: {X_train_pro.shape[1]}')\n",
    "print(f'X train unprocessed shape: {X_train.shape[1]}')"
   ]
  },
  {
   "cell_type": "markdown",
   "id": "f05d5a33",
   "metadata": {},
   "source": [
    "We have successfully transformed out features for the neural network."
   ]
  },
  {
   "cell_type": "markdown",
   "id": "9fa8e7d2",
   "metadata": {},
   "source": [
    "## Neural network model A"
   ]
  },
  {
   "cell_type": "code",
   "execution_count": null,
   "id": "29de938d",
   "metadata": {},
   "outputs": [],
   "source": [
    "#instantiate instance of model\n",
    "model = Sequential()\n",
    "#adding first layer \n",
    "model.add(Dense(64, input_dim=X_train_pro.shape[1], activation='relu'))\n",
    "#adding second layer\n",
    "model.add(Dense(32, activation='relu'))\n",
    "#adding output layer\n",
    "model.add(Dense(1, activation='linear'))\n",
    "#compile model for regression\n",
    "model.compile(loss='mse', optimizer='adam', metrics=[metrics.MeanAbsoluteError(),\n",
    "                                                     metrics.RootMeanSquaredError()])\n",
    "#fitting data to model\n",
    "history = model.fit(X_train_pro, y_train,\n",
    "                   validation_data=(X_test_pro, y_test),\n",
    "                   epochs=100,\n",
    "                   verbose=0)"
   ]
  }
 ],
 "metadata": {
  "kernelspec": {
   "display_name": "Python (dojo-env)",
   "language": "python",
   "name": "dojo-env"
  },
  "language_info": {
   "codemirror_mode": {
    "name": "ipython",
    "version": 3
   },
   "file_extension": ".py",
   "mimetype": "text/x-python",
   "name": "python",
   "nbconvert_exporter": "python",
   "pygments_lexer": "ipython3",
   "version": "3.8.13"
  },
  "toc": {
   "base_numbering": 1,
   "nav_menu": {},
   "number_sections": true,
   "sideBar": true,
   "skip_h1_title": false,
   "title_cell": "Table of Contents",
   "title_sidebar": "Contents",
   "toc_cell": false,
   "toc_position": {},
   "toc_section_display": true,
   "toc_window_display": false
  }
 },
 "nbformat": 4,
 "nbformat_minor": 5
}
